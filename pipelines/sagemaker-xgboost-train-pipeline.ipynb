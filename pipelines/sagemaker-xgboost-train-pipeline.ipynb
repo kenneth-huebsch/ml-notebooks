{
 "cells": [
  {
   "cell_type": "code",
   "execution_count": null,
   "id": "43170e2c-e097-46d9-828b-b1ffdecd4feb",
   "metadata": {},
   "outputs": [],
   "source": [
    "import boto3\n",
    "import sagemaker\n",
    "from sagemaker.workflow.pipeline_context import PipelineSession\n",
    "\n",
    "sagemaker_session = sagemaker.session.Session()\n",
    "region = sagemaker_session.boto_region_name\n",
    "role = sagemaker.get_execution_role()\n",
    "pipeline_session = PipelineSession()\n",
    "default_bucket = sagemaker_session.default_bucket()\n",
    "\n",
    "# Define the S3 path to the dataset\n",
    "bucket_name = 'kennys-testing-bucket'\n",
    "input_data_uri = f's3://{bucket_name}/training-data/Employee.csv'\n",
    "\n",
    "# Initialize S3 resource\n",
    "s3 = boto3.resource('s3')\n",
    "\n",
    "# Define your S3 bucket and path\n",
    "prefix = 'pipeline'\n",
    "\n"
   ]
  },
  {
   "cell_type": "code",
   "execution_count": null,
   "id": "84628f90-0d75-4838-852d-0458d2560909",
   "metadata": {},
   "outputs": [],
   "source": [
    "from sagemaker.estimator import Estimator\n",
    "from sagemaker.inputs import TrainingInput\n",
    "from sagemaker.workflow.steps import TrainingStep\n",
    "\n",
    "# Define the XGBoost Estimator\n",
    "xgb_train = Estimator(\n",
    "    image_uri=sagemaker.image_uris.retrieve(\"xgboost\", boto3.Session().region_name, \"1.2-1\"),\n",
    "    instance_type=\"ml.m5.xlarge\",\n",
    "    instance_count=1,\n",
    "    output_path=f\"s3://{bucket_name}/model-output\",\n",
    "    role=role,\n",
    "    sagemaker_session=pipeline_session,\n",
    ")\n",
    "\n",
    "# Set hyperparameters\n",
    "xgb_train.set_hyperparameters(\n",
    "    objective=\"binary:logistic\",\n",
    "    num_round=100,\n",
    "    max_depth=5,\n",
    "    eta=0.2,\n",
    "    gamma=4,\n",
    "    min_child_weight=6,\n",
    "    subsample=0.7,\n",
    ")\n",
    "\n",
    "# Define the training step\n",
    "step_train = TrainingStep(\n",
    "    name=\"EmployeeAttritionTrain\",\n",
    "    estimator=xgb_train,\n",
    "    inputs={\n",
    "        \"train\": TrainingInput(s3_data=\"s3://kennys-testing-bucket/input-data/train/train.csv\", content_type=\"text/csv\"),\n",
    "    },\n",
    ")\n"
   ]
  },
  {
   "cell_type": "code",
   "execution_count": null,
   "id": "7244f003-2c1a-472a-a82b-0e5ec9f8413c",
   "metadata": {},
   "outputs": [],
   "source": [
    "from sagemaker.model_metrics import MetricsSource, ModelMetrics\n",
    "from sagemaker.workflow.model_step import ModelStep\n",
    "from sagemaker.model import Model\n",
    "\n",
    "# Define model metrics using the output of the evaluation step\n",
    "\n",
    "# Define the model to be registered\n",
    "model = Model(\n",
    "    image_uri=xgb_train.image_uri,  # Use the same image URI as the training step\n",
    "    model_data=step_train.properties.ModelArtifacts.S3ModelArtifacts,\n",
    "    sagemaker_session=pipeline_session,\n",
    "    role=role,\n",
    ")\n",
    "\n",
    "# Register the model\n",
    "register_args = model.register(\n",
    "    content_types=[\"text/csv\"],  # Content type of the input data\n",
    "    response_types=[\"text/csv\"],  # Content type of the output data\n",
    "    inference_instances=[\"ml.t2.medium\"],  # Supported inference instance types\n",
    "    transform_instances=[\"ml.m4.xlarge\"],  # Supported transform instance types\n",
    "    model_package_group_name=\"EmployeeAttritionModelGroup23\",  # Model package group name\n",
    "    #approval_status=model_approval_status,  # Default approval status\n",
    "   \n",
    ")\n",
    "\n",
    "# Create a ModelStep to register the model\n",
    "step_register = ModelStep(\n",
    "    name=\"EmployeeAttritionRegisterModel\",\n",
    "    step_args=register_args,\n",
    ")\n"
   ]
  },
  {
   "cell_type": "code",
   "execution_count": null,
   "id": "285aaf11-019a-4afb-96f4-70f97d36ba16",
   "metadata": {},
   "outputs": [],
   "source": [
    "from sagemaker.workflow.pipeline import Pipeline\n",
    "\n",
    "# Define the pipeline\n",
    "pipeline = Pipeline(\n",
    "    name=\"EmployeeAttritionPipeline-2\",\n",
    "    steps=[step_train, step_register],\n",
    ")\n",
    "\n",
    "\n"
   ]
  },
  {
   "cell_type": "code",
   "execution_count": null,
   "id": "78f04183-c8bb-4ece-af03-d3c9e778d0f6",
   "metadata": {},
   "outputs": [],
   "source": [
    "import json\n",
    "\n",
    "\n",
    "definition = json.loads(pipeline.definition())\n",
    "definition"
   ]
  },
  {
   "cell_type": "code",
   "execution_count": null,
   "id": "ea5833ff-37d8-43c0-94d5-4fec6ef56ffa",
   "metadata": {},
   "outputs": [],
   "source": [
    "\n",
    "# Submit the pipeline definition to SageMaker\n",
    "pipeline.upsert(role_arn=role)"
   ]
  },
  {
   "cell_type": "code",
   "execution_count": null,
   "id": "d46a9986-3638-4099-af4f-001f133dd989",
   "metadata": {},
   "outputs": [],
   "source": [
    "# Start the pipeline execution\n",
    "execution = pipeline.start()\n",
    "\n",
    "# Wait for the pipeline execution to complete\n",
    "execution.wait()\n"
   ]
  },
  {
   "cell_type": "code",
   "execution_count": null,
   "id": "328c0164-4bec-4fe7-927b-f9a44a26bac4",
   "metadata": {},
   "outputs": [],
   "source": [
    "pipeline.delete()"
   ]
  }
 ],
 "metadata": {
  "kernelspec": {
   "display_name": "Python 3 (ipykernel)",
   "language": "python",
   "name": "python3"
  },
  "language_info": {
   "codemirror_mode": {
    "name": "ipython",
    "version": 3
   },
   "file_extension": ".py",
   "mimetype": "text/x-python",
   "name": "python",
   "nbconvert_exporter": "python",
   "pygments_lexer": "ipython3",
   "version": "3.11.11"
  }
 },
 "nbformat": 4,
 "nbformat_minor": 5
}
